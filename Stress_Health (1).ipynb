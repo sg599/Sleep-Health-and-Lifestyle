{
 "cells": [
  {
   "cell_type": "markdown",
   "id": "6b495319-f868-43c9-b488-1fa1ab6d7cb2",
   "metadata": {},
   "source": [
    "## **Introduction**\n",
    "This project analyzes the relationship between sleep health, physical activity, and stress levels using the *Sleep Health and Lifestyle* dataset.\n",
    "\n",
    "The goal is to uncover patterns in sleep quality, stress differences between genders, and correlations between sleep duration and physical activity."
   ]
  },
  {
   "cell_type": "markdown",
   "id": "6048c87f-f016-4b1a-991f-2274754cf93e",
   "metadata": {},
   "source": [
    "## **Data Overview**\n",
    "- **Dataset size:** 374 entries\n",
    "- **Key features:** Gender, Age, Occupation, Sleep Duration, Quality of Sleep, Physical Activity Level, Stress Level, BMI Category, Blood Pressure, Heart Rate, Daily Steps, Sleep Disorder."
   ]
  },
  {
   "cell_type": "code",
   "execution_count": 1,
   "id": "37808258-0e23-49a0-9a11-c0112003fa53",
   "metadata": {},
   "outputs": [
    {
     "data": {
      "text/html": [
       "<div>\n",
       "<style scoped>\n",
       "    .dataframe tbody tr th:only-of-type {\n",
       "        vertical-align: middle;\n",
       "    }\n",
       "\n",
       "    .dataframe tbody tr th {\n",
       "        vertical-align: top;\n",
       "    }\n",
       "\n",
       "    .dataframe thead th {\n",
       "        text-align: right;\n",
       "    }\n",
       "</style>\n",
       "<table border=\"1\" class=\"dataframe\">\n",
       "  <thead>\n",
       "    <tr style=\"text-align: right;\">\n",
       "      <th></th>\n",
       "      <th>Person ID</th>\n",
       "      <th>Gender</th>\n",
       "      <th>Age</th>\n",
       "      <th>Occupation</th>\n",
       "      <th>Sleep Duration</th>\n",
       "      <th>Quality of Sleep</th>\n",
       "      <th>Physical Activity Level</th>\n",
       "      <th>Stress Level</th>\n",
       "      <th>BMI Category</th>\n",
       "      <th>Blood Pressure</th>\n",
       "      <th>Heart Rate</th>\n",
       "      <th>Daily Steps</th>\n",
       "      <th>Sleep Disorder</th>\n",
       "    </tr>\n",
       "  </thead>\n",
       "  <tbody>\n",
       "    <tr>\n",
       "      <th>0</th>\n",
       "      <td>1</td>\n",
       "      <td>Male</td>\n",
       "      <td>27</td>\n",
       "      <td>Software Engineer</td>\n",
       "      <td>6.1</td>\n",
       "      <td>6</td>\n",
       "      <td>42</td>\n",
       "      <td>6</td>\n",
       "      <td>Overweight</td>\n",
       "      <td>126/83</td>\n",
       "      <td>77</td>\n",
       "      <td>4200</td>\n",
       "      <td>NaN</td>\n",
       "    </tr>\n",
       "    <tr>\n",
       "      <th>1</th>\n",
       "      <td>2</td>\n",
       "      <td>Male</td>\n",
       "      <td>28</td>\n",
       "      <td>Doctor</td>\n",
       "      <td>6.2</td>\n",
       "      <td>6</td>\n",
       "      <td>60</td>\n",
       "      <td>8</td>\n",
       "      <td>Normal</td>\n",
       "      <td>125/80</td>\n",
       "      <td>75</td>\n",
       "      <td>10000</td>\n",
       "      <td>NaN</td>\n",
       "    </tr>\n",
       "    <tr>\n",
       "      <th>2</th>\n",
       "      <td>3</td>\n",
       "      <td>Male</td>\n",
       "      <td>28</td>\n",
       "      <td>Doctor</td>\n",
       "      <td>6.2</td>\n",
       "      <td>6</td>\n",
       "      <td>60</td>\n",
       "      <td>8</td>\n",
       "      <td>Normal</td>\n",
       "      <td>125/80</td>\n",
       "      <td>75</td>\n",
       "      <td>10000</td>\n",
       "      <td>NaN</td>\n",
       "    </tr>\n",
       "    <tr>\n",
       "      <th>3</th>\n",
       "      <td>4</td>\n",
       "      <td>Male</td>\n",
       "      <td>28</td>\n",
       "      <td>Sales Representative</td>\n",
       "      <td>5.9</td>\n",
       "      <td>4</td>\n",
       "      <td>30</td>\n",
       "      <td>8</td>\n",
       "      <td>Obese</td>\n",
       "      <td>140/90</td>\n",
       "      <td>85</td>\n",
       "      <td>3000</td>\n",
       "      <td>Sleep Apnea</td>\n",
       "    </tr>\n",
       "    <tr>\n",
       "      <th>4</th>\n",
       "      <td>5</td>\n",
       "      <td>Male</td>\n",
       "      <td>28</td>\n",
       "      <td>Sales Representative</td>\n",
       "      <td>5.9</td>\n",
       "      <td>4</td>\n",
       "      <td>30</td>\n",
       "      <td>8</td>\n",
       "      <td>Obese</td>\n",
       "      <td>140/90</td>\n",
       "      <td>85</td>\n",
       "      <td>3000</td>\n",
       "      <td>Sleep Apnea</td>\n",
       "    </tr>\n",
       "  </tbody>\n",
       "</table>\n",
       "</div>"
      ],
      "text/plain": [
       "   Person ID Gender  Age            Occupation  Sleep Duration  \\\n",
       "0          1   Male   27     Software Engineer             6.1   \n",
       "1          2   Male   28                Doctor             6.2   \n",
       "2          3   Male   28                Doctor             6.2   \n",
       "3          4   Male   28  Sales Representative             5.9   \n",
       "4          5   Male   28  Sales Representative             5.9   \n",
       "\n",
       "   Quality of Sleep  Physical Activity Level  Stress Level BMI Category  \\\n",
       "0                 6                       42             6   Overweight   \n",
       "1                 6                       60             8       Normal   \n",
       "2                 6                       60             8       Normal   \n",
       "3                 4                       30             8        Obese   \n",
       "4                 4                       30             8        Obese   \n",
       "\n",
       "  Blood Pressure  Heart Rate  Daily Steps Sleep Disorder  \n",
       "0         126/83          77         4200            NaN  \n",
       "1         125/80          75        10000            NaN  \n",
       "2         125/80          75        10000            NaN  \n",
       "3         140/90          85         3000    Sleep Apnea  \n",
       "4         140/90          85         3000    Sleep Apnea  "
      ]
     },
     "metadata": {},
     "output_type": "display_data"
    }
   ],
   "source": [
    "# Load the data\n",
    "import pandas as pd\n",
    "import numpy as np\n",
    "\n",
    "health_data = pd.read_csv(\"Sleep_health_and_lifestyle_dataset.csv\")\n",
    "display(health_data.head())"
   ]
  },
  {
   "cell_type": "code",
   "execution_count": 2,
   "id": "d149a99b-d25e-493e-ac3f-77bc449c3125",
   "metadata": {},
   "outputs": [
    {
     "name": "stdout",
     "output_type": "stream",
     "text": [
      "<class 'pandas.core.frame.DataFrame'>\n",
      "RangeIndex: 374 entries, 0 to 373\n",
      "Data columns (total 13 columns):\n",
      " #   Column                   Non-Null Count  Dtype  \n",
      "---  ------                   --------------  -----  \n",
      " 0   Person ID                374 non-null    int64  \n",
      " 1   Gender                   374 non-null    object \n",
      " 2   Age                      374 non-null    int64  \n",
      " 3   Occupation               374 non-null    object \n",
      " 4   Sleep Duration           374 non-null    float64\n",
      " 5   Quality of Sleep         374 non-null    int64  \n",
      " 6   Physical Activity Level  374 non-null    int64  \n",
      " 7   Stress Level             374 non-null    int64  \n",
      " 8   BMI Category             374 non-null    object \n",
      " 9   Blood Pressure           374 non-null    object \n",
      " 10  Heart Rate               374 non-null    int64  \n",
      " 11  Daily Steps              374 non-null    int64  \n",
      " 12  Sleep Disorder           155 non-null    object \n",
      "dtypes: float64(1), int64(7), object(5)\n",
      "memory usage: 38.1+ KB\n",
      "None\n",
      "(374, 13)\n"
     ]
    }
   ],
   "source": [
    "# Columns and rows in the data\n",
    "print(health_data.info())\n",
    "print(health_data.shape)"
   ]
  },
  {
   "cell_type": "markdown",
   "id": "2111547c-b28d-4273-9cdd-7fbbf1bdbde3",
   "metadata": {},
   "source": [
    "## **Data Cleaning & Preprocessing**\n",
    "- Missing values in the \"Sleep Disorder\" column were replaced with `\"None\"`.\n",
    "- For the column \"BMI Category\" entries \"Normal Weight\" were replaced with \"Normal\" because they are referring to the same category."
   ]
  },
  {
   "cell_type": "code",
   "execution_count": 3,
   "id": "e65b70b9-34e0-4782-b9a3-941630dee809",
   "metadata": {},
   "outputs": [
    {
     "name": "stdout",
     "output_type": "stream",
     "text": [
      "Person ID                    0\n",
      "Gender                       0\n",
      "Age                          0\n",
      "Occupation                   0\n",
      "Sleep Duration               0\n",
      "Quality of Sleep             0\n",
      "Physical Activity Level      0\n",
      "Stress Level                 0\n",
      "BMI Category                 0\n",
      "Blood Pressure               0\n",
      "Heart Rate                   0\n",
      "Daily Steps                  0\n",
      "Sleep Disorder             219\n",
      "dtype: int64\n"
     ]
    }
   ],
   "source": [
    "# Explore for missing values\n",
    "print(health_data.isnull().sum())"
   ]
  },
  {
   "cell_type": "code",
   "execution_count": 4,
   "id": "ccdb875d-1372-4c0f-aa3d-a2c276ad5e6a",
   "metadata": {},
   "outputs": [
    {
     "data": {
      "text/html": [
       "<div>\n",
       "<style scoped>\n",
       "    .dataframe tbody tr th:only-of-type {\n",
       "        vertical-align: middle;\n",
       "    }\n",
       "\n",
       "    .dataframe tbody tr th {\n",
       "        vertical-align: top;\n",
       "    }\n",
       "\n",
       "    .dataframe thead th {\n",
       "        text-align: right;\n",
       "    }\n",
       "</style>\n",
       "<table border=\"1\" class=\"dataframe\">\n",
       "  <thead>\n",
       "    <tr style=\"text-align: right;\">\n",
       "      <th></th>\n",
       "      <th>Person ID</th>\n",
       "      <th>Age</th>\n",
       "      <th>Sleep Duration</th>\n",
       "      <th>Quality of Sleep</th>\n",
       "      <th>Physical Activity Level</th>\n",
       "      <th>Stress Level</th>\n",
       "      <th>Heart Rate</th>\n",
       "      <th>Daily Steps</th>\n",
       "    </tr>\n",
       "  </thead>\n",
       "  <tbody>\n",
       "    <tr>\n",
       "      <th>count</th>\n",
       "      <td>374.000000</td>\n",
       "      <td>374.000000</td>\n",
       "      <td>374.000000</td>\n",
       "      <td>374.000000</td>\n",
       "      <td>374.000000</td>\n",
       "      <td>374.000000</td>\n",
       "      <td>374.000000</td>\n",
       "      <td>374.000000</td>\n",
       "    </tr>\n",
       "    <tr>\n",
       "      <th>mean</th>\n",
       "      <td>187.500000</td>\n",
       "      <td>42.184492</td>\n",
       "      <td>7.132086</td>\n",
       "      <td>7.312834</td>\n",
       "      <td>59.171123</td>\n",
       "      <td>5.385027</td>\n",
       "      <td>70.165775</td>\n",
       "      <td>6816.844920</td>\n",
       "    </tr>\n",
       "    <tr>\n",
       "      <th>std</th>\n",
       "      <td>108.108742</td>\n",
       "      <td>8.673133</td>\n",
       "      <td>0.795657</td>\n",
       "      <td>1.196956</td>\n",
       "      <td>20.830804</td>\n",
       "      <td>1.774526</td>\n",
       "      <td>4.135676</td>\n",
       "      <td>1617.915679</td>\n",
       "    </tr>\n",
       "    <tr>\n",
       "      <th>min</th>\n",
       "      <td>1.000000</td>\n",
       "      <td>27.000000</td>\n",
       "      <td>5.800000</td>\n",
       "      <td>4.000000</td>\n",
       "      <td>30.000000</td>\n",
       "      <td>3.000000</td>\n",
       "      <td>65.000000</td>\n",
       "      <td>3000.000000</td>\n",
       "    </tr>\n",
       "    <tr>\n",
       "      <th>25%</th>\n",
       "      <td>94.250000</td>\n",
       "      <td>35.250000</td>\n",
       "      <td>6.400000</td>\n",
       "      <td>6.000000</td>\n",
       "      <td>45.000000</td>\n",
       "      <td>4.000000</td>\n",
       "      <td>68.000000</td>\n",
       "      <td>5600.000000</td>\n",
       "    </tr>\n",
       "    <tr>\n",
       "      <th>50%</th>\n",
       "      <td>187.500000</td>\n",
       "      <td>43.000000</td>\n",
       "      <td>7.200000</td>\n",
       "      <td>7.000000</td>\n",
       "      <td>60.000000</td>\n",
       "      <td>5.000000</td>\n",
       "      <td>70.000000</td>\n",
       "      <td>7000.000000</td>\n",
       "    </tr>\n",
       "    <tr>\n",
       "      <th>75%</th>\n",
       "      <td>280.750000</td>\n",
       "      <td>50.000000</td>\n",
       "      <td>7.800000</td>\n",
       "      <td>8.000000</td>\n",
       "      <td>75.000000</td>\n",
       "      <td>7.000000</td>\n",
       "      <td>72.000000</td>\n",
       "      <td>8000.000000</td>\n",
       "    </tr>\n",
       "    <tr>\n",
       "      <th>max</th>\n",
       "      <td>374.000000</td>\n",
       "      <td>59.000000</td>\n",
       "      <td>8.500000</td>\n",
       "      <td>9.000000</td>\n",
       "      <td>90.000000</td>\n",
       "      <td>8.000000</td>\n",
       "      <td>86.000000</td>\n",
       "      <td>10000.000000</td>\n",
       "    </tr>\n",
       "  </tbody>\n",
       "</table>\n",
       "</div>"
      ],
      "text/plain": [
       "        Person ID         Age  Sleep Duration  Quality of Sleep  \\\n",
       "count  374.000000  374.000000      374.000000        374.000000   \n",
       "mean   187.500000   42.184492        7.132086          7.312834   \n",
       "std    108.108742    8.673133        0.795657          1.196956   \n",
       "min      1.000000   27.000000        5.800000          4.000000   \n",
       "25%     94.250000   35.250000        6.400000          6.000000   \n",
       "50%    187.500000   43.000000        7.200000          7.000000   \n",
       "75%    280.750000   50.000000        7.800000          8.000000   \n",
       "max    374.000000   59.000000        8.500000          9.000000   \n",
       "\n",
       "       Physical Activity Level  Stress Level  Heart Rate   Daily Steps  \n",
       "count               374.000000    374.000000  374.000000    374.000000  \n",
       "mean                 59.171123      5.385027   70.165775   6816.844920  \n",
       "std                  20.830804      1.774526    4.135676   1617.915679  \n",
       "min                  30.000000      3.000000   65.000000   3000.000000  \n",
       "25%                  45.000000      4.000000   68.000000   5600.000000  \n",
       "50%                  60.000000      5.000000   70.000000   7000.000000  \n",
       "75%                  75.000000      7.000000   72.000000   8000.000000  \n",
       "max                  90.000000      8.000000   86.000000  10000.000000  "
      ]
     },
     "metadata": {},
     "output_type": "display_data"
    },
    {
     "data": {
      "text/plain": [
       "Person ID  Gender  Age  Occupation            Sleep Duration  Quality of Sleep  Physical Activity Level  Stress Level  BMI Category  Blood Pressure  Heart Rate  Daily Steps  Sleep Disorder\n",
       "4          Male    28   Sales Representative  5.9             4                 30                       8             Obese         140/90          85          3000         Sleep Apnea       1\n",
       "290        Female  50   Nurse                 6.1             6                 90                       8             Overweight    140/95          75          10000        Sleep Apnea       1\n",
       "283        Female  50   Nurse                 6.0             6                 90                       8             Overweight    140/95          75          10000        Sleep Apnea       1\n",
       "284        Female  50   Nurse                 6.0             6                 90                       8             Overweight    140/95          75          10000        Sleep Apnea       1\n",
       "285        Female  50   Nurse                 6.0             6                 90                       8             Overweight    140/95          75          10000        Sleep Apnea       1\n",
       "                                                                                                                                                                                               ..\n",
       "228        Male    44   Salesperson           6.3             6                 45                       7             Overweight    130/85          72          6000         Insomnia          1\n",
       "229        Female  44   Teacher               6.6             7                 45                       4             Overweight    135/90          65          6000         Insomnia          1\n",
       "230        Male    44   Salesperson           6.3             6                 45                       7             Overweight    130/85          72          6000         Insomnia          1\n",
       "231        Female  44   Teacher               6.6             7                 45                       4             Overweight    135/90          65          6000         Insomnia          1\n",
       "374        Female  59   Nurse                 8.1             9                 75                       3             Overweight    140/95          68          7000         Sleep Apnea       1\n",
       "Name: count, Length: 155, dtype: int64"
      ]
     },
     "metadata": {},
     "output_type": "display_data"
    }
   ],
   "source": [
    "# Descriptive statistics\n",
    "# For numerical data\n",
    "display(health_data.describe()) \n",
    "# For categorical data\n",
    "display(health_data.value_counts())"
   ]
  },
  {
   "cell_type": "code",
   "execution_count": 5,
   "id": "4740608c-f546-4f9a-90ff-4e6ab2cd398c",
   "metadata": {},
   "outputs": [
    {
     "name": "stdout",
     "output_type": "stream",
     "text": [
      "['Software Engineer' 'Doctor' 'Sales Representative' 'Teacher' 'Nurse'\n",
      " 'Engineer' 'Accountant' 'Scientist' 'Lawyer' 'Salesperson' 'Manager']\n",
      "======================================================================\n",
      "['Male' 'Female']\n",
      "Gender\n",
      "Male      189\n",
      "Female    185\n",
      "Name: count, dtype: int64\n",
      "======================================================================\n",
      "['Overweight' 'Normal' 'Obese' 'Normal Weight']\n",
      "======================================================================\n",
      "[nan 'Sleep Apnea' 'Insomnia']\n"
     ]
    }
   ],
   "source": [
    "# Inspect categorical type data\n",
    "print(health_data[\"Occupation\"].unique())\n",
    "print(\"=\"*70)\n",
    "print(health_data[\"Gender\"].unique())\n",
    "print(health_data[\"Gender\"].value_counts())\n",
    "print(\"=\"*70)\n",
    "print(health_data[\"BMI Category\"].unique())\n",
    "print(\"=\"*70)\n",
    "print(health_data[\"Sleep Disorder\"].unique())"
   ]
  },
  {
   "cell_type": "code",
   "execution_count": 6,
   "id": "9b6f48dd-09c1-4e35-a3f5-3e81e3154c72",
   "metadata": {},
   "outputs": [
    {
     "name": "stdout",
     "output_type": "stream",
     "text": [
      "['Overweight' 'Normal' 'Obese']\n"
     ]
    }
   ],
   "source": [
    "# Replace the inconsistent values -> \"Normal Weight\" to \"Normal\"\n",
    "health_data[\"BMI Category\"] = health_data[\"BMI Category\"].replace({\"Normal Weight\":\"Normal\"})\n",
    "print(health_data[\"BMI Category\"].unique())"
   ]
  },
  {
   "cell_type": "code",
   "execution_count": 7,
   "id": "86baf959-3161-4a79-b580-1cbb7f8adcee",
   "metadata": {},
   "outputs": [
    {
     "name": "stdout",
     "output_type": "stream",
     "text": [
      "['None' 'Sleep Apnea' 'Insomnia']\n"
     ]
    }
   ],
   "source": [
    "# Replace nan with \"None\" in the sleeping disorder column\n",
    "health_data[\"Sleep Disorder\"] = health_data[\"Sleep Disorder\"].replace({np.nan:\"None\"})\n",
    "print(health_data[\"Sleep Disorder\"].unique())"
   ]
  },
  {
   "cell_type": "code",
   "execution_count": 8,
   "id": "3a00f139-f74d-4b21-8948-a9366009ca31",
   "metadata": {},
   "outputs": [
    {
     "name": "stdout",
     "output_type": "stream",
     "text": [
      "0\n"
     ]
    }
   ],
   "source": [
    "# Check whether there are still considered missing values\n",
    "print(health_data[\"Sleep Disorder\"].isnull().sum())"
   ]
  },
  {
   "cell_type": "markdown",
   "id": "fe203dac-1a07-4068-acfe-df1a2ab729a1",
   "metadata": {},
   "source": [
    "* Distribution of key variables (summary statistics)"
   ]
  },
  {
   "cell_type": "code",
   "execution_count": 9,
   "id": "c41049ee-3336-48da-a59a-4cb23cc4e655",
   "metadata": {},
   "outputs": [
    {
     "name": "stdout",
     "output_type": "stream",
     "text": [
      "count    374.000000\n",
      "mean       7.132086\n",
      "std        0.795657\n",
      "min        5.800000\n",
      "25%        6.400000\n",
      "50%        7.200000\n",
      "75%        7.800000\n",
      "max        8.500000\n",
      "Name: Sleep Duration, dtype: float64\n",
      "count    374.000000\n",
      "mean      59.171123\n",
      "std       20.830804\n",
      "min       30.000000\n",
      "25%       45.000000\n",
      "50%       60.000000\n",
      "75%       75.000000\n",
      "max       90.000000\n",
      "Name: Physical Activity Level, dtype: float64\n",
      "count    374.000000\n",
      "mean       5.385027\n",
      "std        1.774526\n",
      "min        3.000000\n",
      "25%        4.000000\n",
      "50%        5.000000\n",
      "75%        7.000000\n",
      "max        8.000000\n",
      "Name: Stress Level, dtype: float64\n",
      "count    374.000000\n",
      "mean      70.165775\n",
      "std        4.135676\n",
      "min       65.000000\n",
      "25%       68.000000\n",
      "50%       70.000000\n",
      "75%       72.000000\n",
      "max       86.000000\n",
      "Name: Heart Rate, dtype: float64\n"
     ]
    }
   ],
   "source": [
    "print(health_data[\"Sleep Duration\"].describe())\n",
    "print(health_data[\"Physical Activity Level\"].describe())\n",
    "print(health_data[\"Stress Level\"].describe())\n",
    "print(health_data[\"Heart Rate\"].describe())"
   ]
  },
  {
   "cell_type": "markdown",
   "id": "de5d5f36-8030-4b0c-9d20-053687a9284d",
   "metadata": {},
   "source": [
    "## **Data Analysis**\n",
    "**What is the relationship between sleep duration and physical activity level?**\n",
    "- Generate a scatterplot to inspect the direction and strenght of the relationship.\n",
    "- Inspect for possible outliers.\n",
    "- Correlational analysis will be conducted to find the value for *Pearson's r* and a significance test will be performed."
   ]
  },
  {
   "cell_type": "code",
   "execution_count": 10,
   "id": "4390577f-ad37-4595-ab13-6aff89a47475",
   "metadata": {},
   "outputs": [
    {
     "data": {
      "image/png": "[encoded data removed]",
      "text/plain": [
       "<Figure size 640x480 with 1 Axes>"
      ]
     },
     "metadata": {},
     "output_type": "display_data"
    }
   ],
   "source": [
    "# Scatterplot for sleep duration and physical acticvity level\n",
    "import matplotlib.pyplot as plt\n",
    "x_sleep_dur = health_data[\"Sleep Duration\"]\n",
    "y_active = health_data[\"Physical Activity Level\"]\n",
    "\n",
    "plt.scatter(x_sleep_dur, y_active, alpha=0.2, color=\"blue\")\n",
    "plt.xlabel(\"Sleep\")\n",
    "plt.ylabel(\"Exercise\")\n",
    "plt.show()"
   ]
  },
  {
   "cell_type": "markdown",
   "id": "325ef675-bc9d-4635-922c-b8d1db443065",
   "metadata": {},
   "source": [
    "**Conclusion based on scatterplot**\n",
    "* Based on the scatterplot the correlation between sleep duration and physical activity level appears to be positive and strong.\n",
    "* There also appear to be outliers in the data, which can affect the value of the *Pearson's r*. The next step is to find the outliers and remove them for more robust results."
   ]
  },
  {
   "cell_type": "code",
   "execution_count": 11,
   "id": "6715f3dc-b923-4731-b552-1757c229dbe2",
   "metadata": {},
   "outputs": [
    {
     "data": {
      "text/html": [
       "<div>\n",
       "<style scoped>\n",
       "    .dataframe tbody tr th:only-of-type {\n",
       "        vertical-align: middle;\n",
       "    }\n",
       "\n",
       "    .dataframe tbody tr th {\n",
       "        vertical-align: top;\n",
       "    }\n",
       "\n",
       "    .dataframe thead th {\n",
       "        text-align: right;\n",
       "    }\n",
       "</style>\n",
       "<table border=\"1\" class=\"dataframe\">\n",
       "  <thead>\n",
       "    <tr style=\"text-align: right;\">\n",
       "      <th></th>\n",
       "      <th>Person ID</th>\n",
       "      <th>Gender</th>\n",
       "      <th>Age</th>\n",
       "      <th>Occupation</th>\n",
       "      <th>Sleep Duration</th>\n",
       "      <th>Quality of Sleep</th>\n",
       "      <th>Physical Activity Level</th>\n",
       "      <th>Stress Level</th>\n",
       "      <th>BMI Category</th>\n",
       "      <th>Blood Pressure</th>\n",
       "      <th>Heart Rate</th>\n",
       "      <th>Daily Steps</th>\n",
       "      <th>Sleep Disorder</th>\n",
       "    </tr>\n",
       "  </thead>\n",
       "  <tbody>\n",
       "    <tr>\n",
       "      <th>265</th>\n",
       "      <td>266</td>\n",
       "      <td>Female</td>\n",
       "      <td>48</td>\n",
       "      <td>Nurse</td>\n",
       "      <td>5.9</td>\n",
       "      <td>6</td>\n",
       "      <td>90</td>\n",
       "      <td>8</td>\n",
       "      <td>Overweight</td>\n",
       "      <td>140/95</td>\n",
       "      <td>75</td>\n",
       "      <td>10000</td>\n",
       "      <td>Sleep Apnea</td>\n",
       "    </tr>\n",
       "    <tr>\n",
       "      <th>268</th>\n",
       "      <td>269</td>\n",
       "      <td>Female</td>\n",
       "      <td>49</td>\n",
       "      <td>Nurse</td>\n",
       "      <td>6.0</td>\n",
       "      <td>6</td>\n",
       "      <td>90</td>\n",
       "      <td>8</td>\n",
       "      <td>Overweight</td>\n",
       "      <td>140/95</td>\n",
       "      <td>75</td>\n",
       "      <td>10000</td>\n",
       "      <td>Sleep Apnea</td>\n",
       "    </tr>\n",
       "    <tr>\n",
       "      <th>269</th>\n",
       "      <td>270</td>\n",
       "      <td>Female</td>\n",
       "      <td>49</td>\n",
       "      <td>Nurse</td>\n",
       "      <td>6.1</td>\n",
       "      <td>6</td>\n",
       "      <td>90</td>\n",
       "      <td>8</td>\n",
       "      <td>Overweight</td>\n",
       "      <td>140/95</td>\n",
       "      <td>75</td>\n",
       "      <td>10000</td>\n",
       "      <td>Sleep Apnea</td>\n",
       "    </tr>\n",
       "    <tr>\n",
       "      <th>270</th>\n",
       "      <td>271</td>\n",
       "      <td>Female</td>\n",
       "      <td>49</td>\n",
       "      <td>Nurse</td>\n",
       "      <td>6.1</td>\n",
       "      <td>6</td>\n",
       "      <td>90</td>\n",
       "      <td>8</td>\n",
       "      <td>Overweight</td>\n",
       "      <td>140/95</td>\n",
       "      <td>75</td>\n",
       "      <td>10000</td>\n",
       "      <td>Sleep Apnea</td>\n",
       "    </tr>\n",
       "    <tr>\n",
       "      <th>271</th>\n",
       "      <td>272</td>\n",
       "      <td>Female</td>\n",
       "      <td>49</td>\n",
       "      <td>Nurse</td>\n",
       "      <td>6.1</td>\n",
       "      <td>6</td>\n",
       "      <td>90</td>\n",
       "      <td>8</td>\n",
       "      <td>Overweight</td>\n",
       "      <td>140/95</td>\n",
       "      <td>75</td>\n",
       "      <td>10000</td>\n",
       "      <td>Sleep Apnea</td>\n",
       "    </tr>\n",
       "    <tr>\n",
       "      <th>...</th>\n",
       "      <td>...</td>\n",
       "      <td>...</td>\n",
       "      <td>...</td>\n",
       "      <td>...</td>\n",
       "      <td>...</td>\n",
       "      <td>...</td>\n",
       "      <td>...</td>\n",
       "      <td>...</td>\n",
       "      <td>...</td>\n",
       "      <td>...</td>\n",
       "      <td>...</td>\n",
       "      <td>...</td>\n",
       "      <td>...</td>\n",
       "    </tr>\n",
       "    <tr>\n",
       "      <th>336</th>\n",
       "      <td>337</td>\n",
       "      <td>Female</td>\n",
       "      <td>54</td>\n",
       "      <td>Engineer</td>\n",
       "      <td>8.4</td>\n",
       "      <td>9</td>\n",
       "      <td>30</td>\n",
       "      <td>3</td>\n",
       "      <td>Normal</td>\n",
       "      <td>125/80</td>\n",
       "      <td>65</td>\n",
       "      <td>5000</td>\n",
       "      <td>None</td>\n",
       "    </tr>\n",
       "    <tr>\n",
       "      <th>337</th>\n",
       "      <td>338</td>\n",
       "      <td>Female</td>\n",
       "      <td>54</td>\n",
       "      <td>Engineer</td>\n",
       "      <td>8.4</td>\n",
       "      <td>9</td>\n",
       "      <td>30</td>\n",
       "      <td>3</td>\n",
       "      <td>Normal</td>\n",
       "      <td>125/80</td>\n",
       "      <td>65</td>\n",
       "      <td>5000</td>\n",
       "      <td>None</td>\n",
       "    </tr>\n",
       "    <tr>\n",
       "      <th>338</th>\n",
       "      <td>339</td>\n",
       "      <td>Female</td>\n",
       "      <td>54</td>\n",
       "      <td>Engineer</td>\n",
       "      <td>8.5</td>\n",
       "      <td>9</td>\n",
       "      <td>30</td>\n",
       "      <td>3</td>\n",
       "      <td>Normal</td>\n",
       "      <td>125/80</td>\n",
       "      <td>65</td>\n",
       "      <td>5000</td>\n",
       "      <td>None</td>\n",
       "    </tr>\n",
       "    <tr>\n",
       "      <th>341</th>\n",
       "      <td>342</td>\n",
       "      <td>Female</td>\n",
       "      <td>56</td>\n",
       "      <td>Doctor</td>\n",
       "      <td>8.2</td>\n",
       "      <td>9</td>\n",
       "      <td>90</td>\n",
       "      <td>3</td>\n",
       "      <td>Normal</td>\n",
       "      <td>118/75</td>\n",
       "      <td>65</td>\n",
       "      <td>10000</td>\n",
       "      <td>None</td>\n",
       "    </tr>\n",
       "    <tr>\n",
       "      <th>342</th>\n",
       "      <td>343</td>\n",
       "      <td>Female</td>\n",
       "      <td>56</td>\n",
       "      <td>Doctor</td>\n",
       "      <td>8.2</td>\n",
       "      <td>9</td>\n",
       "      <td>90</td>\n",
       "      <td>3</td>\n",
       "      <td>Normal</td>\n",
       "      <td>118/75</td>\n",
       "      <td>65</td>\n",
       "      <td>10000</td>\n",
       "      <td>None</td>\n",
       "    </tr>\n",
       "  </tbody>\n",
       "</table>\n",
       "<p>62 rows × 13 columns</p>\n",
       "</div>"
      ],
      "text/plain": [
       "     Person ID  Gender  Age Occupation  Sleep Duration  Quality of Sleep  \\\n",
       "265        266  Female   48      Nurse             5.9                 6   \n",
       "268        269  Female   49      Nurse             6.0                 6   \n",
       "269        270  Female   49      Nurse             6.1                 6   \n",
       "270        271  Female   49      Nurse             6.1                 6   \n",
       "271        272  Female   49      Nurse             6.1                 6   \n",
       "..         ...     ...  ...        ...             ...               ...   \n",
       "336        337  Female   54   Engineer             8.4                 9   \n",
       "337        338  Female   54   Engineer             8.4                 9   \n",
       "338        339  Female   54   Engineer             8.5                 9   \n",
       "341        342  Female   56     Doctor             8.2                 9   \n",
       "342        343  Female   56     Doctor             8.2                 9   \n",
       "\n",
       "     Physical Activity Level  Stress Level BMI Category Blood Pressure  \\\n",
       "265                       90             8   Overweight         140/95   \n",
       "268                       90             8   Overweight         140/95   \n",
       "269                       90             8   Overweight         140/95   \n",
       "270                       90             8   Overweight         140/95   \n",
       "271                       90             8   Overweight         140/95   \n",
       "..                       ...           ...          ...            ...   \n",
       "336                       30             3       Normal         125/80   \n",
       "337                       30             3       Normal         125/80   \n",
       "338                       30             3       Normal         125/80   \n",
       "341                       90             3       Normal         118/75   \n",
       "342                       90             3       Normal         118/75   \n",
       "\n",
       "     Heart Rate  Daily Steps Sleep Disorder  \n",
       "265          75        10000    Sleep Apnea  \n",
       "268          75        10000    Sleep Apnea  \n",
       "269          75        10000    Sleep Apnea  \n",
       "270          75        10000    Sleep Apnea  \n",
       "271          75        10000    Sleep Apnea  \n",
       "..          ...          ...            ...  \n",
       "336          65         5000           None  \n",
       "337          65         5000           None  \n",
       "338          65         5000           None  \n",
       "341          65        10000           None  \n",
       "342          65        10000           None  \n",
       "\n",
       "[62 rows x 13 columns]"
      ]
     },
     "metadata": {},
     "output_type": "display_data"
    }
   ],
   "source": [
    "# Find the outliers of the females\n",
    "outliers_female = health_data[(health_data[\"Gender\"] == \"Female\") &\n",
    "(health_data[\"Physical Activity Level\"].isin([30,90])) &\n",
    "((health_data[\"Sleep Duration\"].between(5.9,6.1)) | (health_data[\"Sleep Duration\"].between(8.0,8.5)))   \n",
    "]\n",
    "display(outliers_female)"
   ]
  },
  {
   "cell_type": "code",
   "execution_count": 12,
   "id": "dc436e33-b6a2-4afb-939a-e8398ec03993",
   "metadata": {},
   "outputs": [
    {
     "data": {
      "image/png": "[encoded data removed]",
      "text/plain": [
       "<Figure size 640x480 with 1 Axes>"
      ]
     },
     "metadata": {},
     "output_type": "display_data"
    },
    {
     "name": "stdout",
     "output_type": "stream",
     "text": [
      "r = 0.86\n",
      "p = 0.0\n",
      "The correlation is significant at the 5% level.\n"
     ]
    }
   ],
   "source": [
    "# Remove female outliers\n",
    "health_data_cleaned = health_data.drop(outliers_female.index)\n",
    "\n",
    "# Scatterplot for sleep duration and physical acticvity level\n",
    "x_sleep_dur = health_data_cleaned[\"Sleep Duration\"]\n",
    "y_active = health_data_cleaned[\"Physical Activity Level\"]\n",
    "\n",
    "plt.scatter(x_sleep_dur, y_active, alpha=0.2, color=\"blue\")\n",
    "plt.xlabel(\"Sleep\")\n",
    "plt.ylabel(\"Exercise\")\n",
    "plt.show()\n",
    "\n",
    "# Pearson's r correlation sleep duration and physical activity level\n",
    "from scipy.stats import pearsonr\n",
    "\n",
    "r, p_value = pearsonr(health_data_cleaned[\"Sleep Duration\"], health_data_cleaned[\"Physical Activity Level\"])\n",
    "print(\"r = {}\".format(round(r,3)))\n",
    "print(\"p = {}\".format(round(p_value,3)))\n",
    "\n",
    "if p_value <0.05:\n",
    "    print(\"The correlation is significant at the 5% level.\")\n",
    "else:\n",
    "    print(\"The correlation is not significant.\")\n"
   ]
  },
  {
   "cell_type": "markdown",
   "id": "afbbe128-da47-451d-b708-b6f2f0bf511e",
   "metadata": {},
   "source": [
    "**Final conlusions**\n",
    "* The outliers have been located and removed.\n",
    "* The scatterplot was generated again to make sure that the outliers have been removed.\n",
    "* Correlational analysis was performed with value for *r = 0.86* and *p = 0.0*. This result suggests that there is a strong positive relationship between sleep duration and physical activity level. The relationship was also found to be significant, thus if sleep duration increases, so does the physical activity level of the person and vice versa."
   ]
  },
  {
   "cell_type": "markdown",
   "id": "a0e33c9c-b98c-4fc4-94eb-71538d772855",
   "metadata": {},
   "source": [
    "**Summary statistics after outlier removal**\n",
    "* The number of females decreased.\n",
    "* There is almost no change in the statistics for sleep duration, stress level and heart rate.\n",
    "* The Standard Deviation for physical activity level became smaller, indicated less spread out points."
   ]
  },
  {
   "cell_type": "code",
   "execution_count": 13,
   "id": "1ecf2953-a66e-45eb-9f05-c7fabd37ceb6",
   "metadata": {},
   "outputs": [
    {
     "name": "stdout",
     "output_type": "stream",
     "text": [
      "['Male' 'Female']\n",
      "Gender\n",
      "Male      189\n",
      "Female    123\n",
      "Name: count, dtype: int64\n",
      "==================================================\n",
      "count    312.000000\n",
      "mean       7.090064\n",
      "std        0.686478\n",
      "min        5.800000\n",
      "25%        6.500000\n",
      "50%        7.200000\n",
      "75%        7.700000\n",
      "max        8.200000\n",
      "Name: Sleep Duration, dtype: float64\n",
      "==================================================\n",
      "count    312.000000\n",
      "mean      59.198718\n",
      "std       18.471293\n",
      "min       30.000000\n",
      "25%       45.000000\n",
      "50%       60.000000\n",
      "75%       75.000000\n",
      "max       90.000000\n",
      "Name: Physical Activity Level, dtype: float64\n",
      "==================================================\n",
      "count    312.000000\n",
      "mean       5.410256\n",
      "std        1.593281\n",
      "min        3.000000\n",
      "25%        4.000000\n",
      "50%        5.000000\n",
      "75%        7.000000\n",
      "max        8.000000\n",
      "Name: Stress Level, dtype: float64\n",
      "==================================================\n",
      "count    312.000000\n",
      "mean      70.294872\n",
      "std        3.933888\n",
      "min       65.000000\n",
      "25%       68.000000\n",
      "50%       70.000000\n",
      "75%       72.000000\n",
      "max       86.000000\n",
      "Name: Heart Rate, dtype: float64\n"
     ]
    }
   ],
   "source": [
    "\n",
    "print(health_data_cleaned[\"Gender\"].unique())\n",
    "print(health_data_cleaned[\"Gender\"].value_counts())\n",
    "print(\"=\"*50)\n",
    "print(health_data_cleaned[\"Sleep Duration\"].describe())\n",
    "print(\"=\"*50)\n",
    "print(health_data_cleaned[\"Physical Activity Level\"].describe())\n",
    "print(\"=\"*50)\n",
    "print(health_data_cleaned[\"Stress Level\"].describe())\n",
    "print(\"=\"*50)\n",
    "print(health_data_cleaned[\"Heart Rate\"].describe())"
   ]
  },
  {
   "cell_type": "markdown",
   "id": "a7f8130f-dff0-4ad0-bb9f-726c3307ec1d",
   "metadata": {},
   "source": [
    "**What is the relationship between sleep quality and stress level?**\n",
    "- Generate a scatterplot to inspect the direction and strenght of the relationship.\n",
    "- Correlational analysis will be conducted to find the value for *Pearson's r* and a significance test will be performed."
   ]
  },
  {
   "cell_type": "code",
   "execution_count": 14,
   "id": "b2a04359-e404-4d2f-943c-c842b8fc5ed0",
   "metadata": {},
   "outputs": [
    {
     "data": {
      "image/png": "[encoded data removed]",
      "text/plain": [
       "<Figure size 640x480 with 1 Axes>"
      ]
     },
     "metadata": {},
     "output_type": "display_data"
    }
   ],
   "source": [
    "# Scatterplot for sleep duration and stress level (CLEANED DATA)\n",
    "x_qual_sl = health_data_cleaned[\"Quality of Sleep\"]\n",
    "y_sl = health_data_cleaned[\"Stress Level\"]\n",
    "\n",
    "plt.scatter(x_qual_sl, y_sl, alpha=0.7, color=\"blue\")\n",
    "plt.xlabel(\"Quality of Sleep (Scale)\")\n",
    "plt.ylabel(\"Stress Level (Scale)\")\n",
    "plt.show()"
   ]
  },
  {
   "cell_type": "markdown",
   "id": "22c3ee3e-c149-4ec6-ae37-dab3fc6cb291",
   "metadata": {},
   "source": [
    "**Conclusion based on scatterplot**\n",
    "* Based on the scatterplot the correlation between sleep quality and stress level appears to be negative and strong."
   ]
  },
  {
   "cell_type": "code",
   "execution_count": 15,
   "id": "cf239d25-45ce-4f2d-966f-8137b3dfb719",
   "metadata": {},
   "outputs": [
    {
     "name": "stdout",
     "output_type": "stream",
     "text": [
      "r = -0.865\n",
      "p = 0.0\n",
      "The correlation is significant at the 5% level.\n"
     ]
    }
   ],
   "source": [
    "# Pearson's r (sleep quality - stress level)\n",
    "r_ss, p_val = pearsonr(health_data_cleaned[\"Quality of Sleep\"], health_data_cleaned[\"Stress Level\"])\n",
    "print(\"r = {}\".format(round(r_ss,3)))\n",
    "print(\"p = {}\".format(round(p_val,3)))\n",
    "\n",
    "if p_val <0.05:\n",
    "    print(\"The correlation is significant at the 5% level.\")\n",
    "else:\n",
    "    print(\"The correlation is not significant.\")"
   ]
  },
  {
   "cell_type": "markdown",
   "id": "ff602d8f-89c1-40d0-93f0-1e6b9704c389",
   "metadata": {},
   "source": [
    "**Final Conclusions**\n",
    "* Correlational analysis was performed with value for *r = -0.865* and *p = 0.0*. This result suggests that there is a strong negative relationship between sleep quality and stress level. The relationship was also found to be significant, thus if sleep quality decreases, stress level increase and if stress levels decrease, sleep quality will increase."
   ]
  },
  {
   "cell_type": "markdown",
   "id": "60d4ada8-becb-4e8c-8570-16b226a8c3ff",
   "metadata": {},
   "source": [
    "**What is the realionship between sleep quality and stress level for males and for females?**\n",
    "* Generate a scatterplot to inspect the realtion for both genders.\n",
    "* Correlational analysis will be conducted to find the value for *Pearson's r* and a significance test will be performed."
   ]
  },
  {
   "cell_type": "code",
   "execution_count": 16,
   "id": "3c561eda-27f1-4716-af60-0775faf459e6",
   "metadata": {},
   "outputs": [
    {
     "data": {
      "image/png": "[encoded data removed]",
      "text/plain": [
       "<Figure size 1200x600 with 2 Axes>"
      ]
     },
     "metadata": {},
     "output_type": "display_data"
    }
   ],
   "source": [
    "# Scatterplot (Quality - Stress, Male vs. Female)\n",
    "male = health_data_cleaned[health_data_cleaned[\"Gender\"]==\"Male\"]\n",
    "female = health_data_cleaned[health_data_cleaned[\"Gender\"]==\"Female\"]\n",
    "\n",
    "plt.figure(figsize=(12,6))\n",
    "\n",
    "plt.subplot(1,2,1)\n",
    "plt.scatter(male[\"Quality of Sleep\"], male[\"Stress Level\"], alpha=0.7, color=\"blue\")\n",
    "plt.xlabel(\"Quality of Sleep (Scale)\")\n",
    "plt.ylabel(\"Stress Level (Scale)\")\n",
    "plt.title(\"Sleep Quality vs. Stress in Males\")\n",
    "\n",
    "plt.subplot(1,2,2)\n",
    "plt.scatter(female[\"Quality of Sleep\"], female[\"Stress Level\"], alpha=0.7, color=\"pink\")\n",
    "plt.xlabel(\"Quality of Sleep (Scale)\")\n",
    "plt.ylabel(\"Stress Level (Scale)\")\n",
    "plt.title(\"Sleep Quality vs. Stress in Females\")\n",
    "\n",
    "plt.show()"
   ]
  },
  {
   "cell_type": "markdown",
   "id": "a9676d7b-f121-4683-95db-e9d8fa29fb2f",
   "metadata": {},
   "source": [
    "**Conclusions based on scatterplot**\n",
    "* For both genders we see a negative relationship, which is consistent with the general trend we saw in the previous analysis."
   ]
  },
  {
   "cell_type": "code",
   "execution_count": 17,
   "id": "03a36e19-c542-4fcd-9b80-3dd216a2061e",
   "metadata": {},
   "outputs": [
    {
     "name": "stdout",
     "output_type": "stream",
     "text": [
      "r (males)= -0.899\n",
      "p (males)= 0.0\n",
      "The correlation is significant at the 5% level.\n",
      "==================================================\n",
      "r (females)= -0.829\n",
      "p (females)= 0.0\n",
      "The correlation is significant at the 5% level.\n"
     ]
    }
   ],
   "source": [
    "# Pearson's r (males)\n",
    "r_male, p_male = pearsonr(male[\"Quality of Sleep\"], male[\"Stress Level\"])\n",
    "\n",
    "print(\"r (males)= {}\".format(round(r_male,3)))\n",
    "print(\"p (males)= {}\".format(round(p_male,3)))\n",
    "\n",
    "if p_male <0.05:\n",
    "    print(\"The correlation is significant at the 5% level.\")\n",
    "    print(\"=\"*50)\n",
    "else:\n",
    "    print(\"The correlation is not significant.\")\n",
    "    \n",
    "# Pearson's r (females)\n",
    "r_female, p_female = pearsonr(female[\"Quality of Sleep\"], female[\"Stress Level\"])\n",
    "\n",
    "print(\"r (females)= {}\".format(round(r_female,3)))\n",
    "print(\"p (females)= {}\".format(round(p_female,3)))\n",
    "\n",
    "if p_female <0.05:\n",
    "    print(\"The correlation is significant at the 5% level.\")\n",
    "else:\n",
    "    print(\"The correlation is not significant.\")"
   ]
  },
  {
   "cell_type": "markdown",
   "id": "205f1aa0-3e2f-4dc9-94f6-379b05eb1ae4",
   "metadata": {},
   "source": [
    "**Final Conclusions**\n",
    "* Correlational analysis was performed with value for *r (males) = -0.899* and *p (males) = 0.0*. This result suggests that there is a strong negative relationship between sleep quality and stress level for males. The relationship was also found to be significant, thus if sleep quality in males decreases, stress level in males increases and if stress levels in males decrease, sleep quality will increase.\n",
    "* For the females the results were similar: *r (females) = -0.829* and *p (females) = 0.0*. The strong negative relationship is also present for the females."
   ]
  },
  {
   "cell_type": "markdown",
   "id": "b308c7a0-28f4-4aef-b7b0-07284681b10f",
   "metadata": {},
   "source": [
    "**Do males and females have on average the same sleep quality?**\n",
    "* Perform a two-sided independent sample t-test to investigate whether the sleep quality of males and females differs.\n",
    "* Calculate an effect size.\n",
    "* Visualize the results using a boxplot."
   ]
  },
  {
   "cell_type": "code",
   "execution_count": 18,
   "id": "c13cca0b-ae15-463b-808f-77d85463018b",
   "metadata": {},
   "outputs": [
    {
     "name": "stdout",
     "output_type": "stream",
     "text": [
      "Mean sleep (males) = 6.968\n",
      "Mean sleep (females) = 7.675\n",
      "========================================\n",
      "t = -5.733\n",
      "p = 0.0\n",
      "Result is significant at the 5% level.\n"
     ]
    }
   ],
   "source": [
    "# Sleep quality between genders\n",
    "from scipy.stats import ttest_ind\n",
    "\n",
    "m_sl = male[\"Quality of Sleep\"]\n",
    "f_sl = female[\"Quality of Sleep\"]\n",
    "m_avg = male[\"Quality of Sleep\"].mean()\n",
    "f_avg = female[\"Quality of Sleep\"].mean()\n",
    "print(\"Mean sleep (males) = {}\".format(round(m_avg,3)))\n",
    "print(\"Mean sleep (females) = {}\".format(round(f_avg,3)))\n",
    "print(\"=\"*40)\n",
    "\n",
    "t_st, pv = ttest_ind(m_sl, f_sl)\n",
    "\n",
    "print(\"t = {}\".format(round(t_st,3)))\n",
    "print(\"p = {}\".format(round(pv,3)))\n",
    "\n",
    "if pv <0.05:\n",
    "    print(\"Result is significant at the 5% level.\")\n",
    "else:\n",
    "    print(\"Result is not significant at the 5% level.\")"
   ]
  },
  {
   "cell_type": "code",
   "execution_count": 19,
   "id": "6f6c4fd7-e75a-4fae-b063-af4b7621833e",
   "metadata": {},
   "outputs": [
    {
     "name": "stdout",
     "output_type": "stream",
     "text": [
      "Cohen's d = 0.664\n"
     ]
    }
   ],
   "source": [
    "# Calculate the Cohen's d for to check for practical significance\n",
    "pooled_std = np.sqrt(((len(male[\"Quality of Sleep\"]) - 1) * male[\"Quality of Sleep\"].var() +\n",
    "                      (len(female[\"Quality of Sleep\"]) - 1) * female[\"Quality of Sleep\"].var()) /\n",
    "                     (len(male[\"Quality of Sleep\"]) + len(female[\"Quality of Sleep\"]) - 2))\n",
    "\n",
    "cohen_d = (female[\"Quality of Sleep\"].mean() - male[\"Quality of Sleep\"].mean()) / pooled_std\n",
    "print(f\"Cohen's d = {round(cohen_d,3)}\")"
   ]
  },
  {
   "cell_type": "code",
   "execution_count": 20,
   "id": "eef509a0-87ae-4401-bee6-d60e56dfcee8",
   "metadata": {},
   "outputs": [
    {
     "data": {
      "image/png": "[encoded data removed]",
      "text/plain": [
       "<Figure size 640x480 with 1 Axes>"
      ]
     },
     "metadata": {},
     "output_type": "display_data"
    }
   ],
   "source": [
    "# Box plot between the two genders\n",
    "import seaborn as sns\n",
    "\n",
    "custom_palette = {\"Male\": \"blue\", \"Female\": \"pink\"}\n",
    "\n",
    "sns.boxplot(data=health_data_cleaned, x=\"Gender\", y=\"Quality of Sleep\", palette=custom_palette)\n",
    "plt.title(\"Sleep Quality by Gender\")\n",
    "plt.show()"
   ]
  },
  {
   "cell_type": "markdown",
   "id": "444ea700-fc82-406b-aeca-ddf57f16ace2",
   "metadata": {},
   "source": [
    "**Final Conclusions**\n",
    "* The results of the t-test were significant (*t = -5.733, p = 0.0*), suggesting that females experience on average higher levels of sleep quality.\n",
    "* The effect size (*d = 0.664*) suggests that gender has a moderate impact on sleep quality.\n",
    "* The boxplot makes the results clearer by showing that females have higher sleep quality than males."
   ]
  },
  {
   "cell_type": "markdown",
   "id": "ce3917b8-3792-4890-8bc2-f5a11c868585",
   "metadata": {},
   "source": [
    "**Which gender experiences on average more stress - males or females?**\n",
    "- find the average stress level for both gender\n",
    "- conduct a t-test to check whether the differences in the mean value is significant\n",
    "- conduct an effect size test (Cohen's d) to check for practical significance."
   ]
  },
  {
   "cell_type": "code",
   "execution_count": 21,
   "id": "bba4eb19-3d36-4e14-b695-38646d7f0055",
   "metadata": {},
   "outputs": [
    {
     "name": "stdout",
     "output_type": "stream",
     "text": [
      "Gender\n",
      "Female    4.382114\n",
      "Male      6.079365\n",
      "Name: Stress Level, dtype: float64\n",
      "========================================\n",
      "Average stress level of males: 6.079\n",
      "Average stress level of females: 4.382\n"
     ]
    }
   ],
   "source": [
    "# Average stress level based on gender\n",
    "avg_stress = health_data_cleaned.groupby(\"Gender\")[\"Stress Level\"].mean()\n",
    "print(avg_stress)\n",
    "print(\"=\"*40)\n",
    "avg_stress_male = health_data_cleaned.loc[health_data_cleaned[\"Gender\"]==\"Male\", \"Stress Level\"].mean()\n",
    "avg_stress_female = health_data_cleaned.loc[health_data_cleaned[\"Gender\"]==\"Female\", \"Stress Level\"].mean()\n",
    "print(\"Average stress level of males: {}\".format(round(avg_stress_male,3)))\n",
    "print(\"Average stress level of females: {}\".format(round(avg_stress_female,3)))"
   ]
  },
  {
   "cell_type": "code",
   "execution_count": 22,
   "id": "118f8e27-776b-4b1e-8094-e70c39a5bda4",
   "metadata": {},
   "outputs": [
    {
     "name": "stdout",
     "output_type": "stream",
     "text": [
      "t = 10.759\n",
      "p = 0.0\n",
      "Result is significant at the 5% level.\n"
     ]
    }
   ],
   "source": [
    "# Are females more or less stressed then males? (Perform a t-test)\n",
    "from scipy.stats import ttest_ind\n",
    "m_stress = male[\"Stress Level\"]\n",
    "f_stress = female[\"Stress Level\"]\n",
    "\n",
    "t_stat, p = ttest_ind(m_stress, f_stress)\n",
    "\n",
    "print(\"t = {}\".format(round(t_stat,3)))\n",
    "print(\"p = {}\".format(round(p,3)))\n",
    "\n",
    "if p <0.05:\n",
    "    print(\"Result is significant at the 5% level.\")\n",
    "else:\n",
    "    print(\"Result is not significant at the 5% level.\")"
   ]
  },
  {
   "cell_type": "code",
   "execution_count": 23,
   "id": "b18ac09c-6310-400a-a027-b5dc492db7d2",
   "metadata": {},
   "outputs": [
    {
     "name": "stdout",
     "output_type": "stream",
     "text": [
      "Cohen's d = -1.246\n"
     ]
    }
   ],
   "source": [
    "# Calculate the Cohen's d for to check for practical significance\n",
    "pooled_std = np.sqrt(((len(male[\"Stress Level\"]) - 1) * male[\"Stress Level\"].var() +\n",
    "                      (len(female[\"Stress Level\"]) - 1) * female[\"Stress Level\"].var()) /\n",
    "                     (len(male[\"Stress Level\"]) + len(female[\"Stress Level\"]) - 2))\n",
    "\n",
    "cohen_d = (female[\"Stress Level\"].mean() - male[\"Stress Level\"].mean()) / pooled_std\n",
    "print(f\"Cohen's d = {round(cohen_d,3)}\")"
   ]
  },
  {
   "cell_type": "code",
   "execution_count": 24,
   "id": "23fff50a-6180-42f9-be28-10cc112907ee",
   "metadata": {},
   "outputs": [
    {
     "data": {
      "image/png": "[encoded data removed]",
      "text/plain": [
       "<Figure size 640x480 with 1 Axes>"
      ]
     },
     "metadata": {},
     "output_type": "display_data"
    }
   ],
   "source": [
    "# Bar plot of stress level in genders\n",
    "import matplotlib.pyplot as plt\n",
    "y_stress = [avg_stress_male, avg_stress_female]\n",
    "x_stress = np.arange(len(y_stress))\n",
    "\n",
    "plt.bar(x_stress, y_stress, color=[\"blue\", \"pink\"])\n",
    "plt.xticks(x_stress, [\"Male\", \"Female\"])\n",
    "plt.xlabel(\"Gender\")\n",
    "plt.ylabel(\"Stress Level\")\n",
    "plt.title(\"Average Stress Level\")\n",
    "plt.show()"
   ]
  },
  {
   "cell_type": "markdown",
   "id": "e01e6cae-49ef-48c7-9dbb-30f09cc1aed4",
   "metadata": {},
   "source": [
    "**Final Conclusions**\n",
    "* The results of the t-test were significant (*t = 10.759, p = 0.0*), suggesting that males experience on average higher stress levels.\n",
    "* The effect size (*d = 1.246*) suggests that gender has a large impact on stress level.\n",
    "* The bargraph makes the results clearer by showing that males have higher sleep levels than females."
   ]
  },
  {
   "cell_type": "markdown",
   "id": "15f01f82-b441-4c81-9308-31770f8fefd1",
   "metadata": {},
   "source": [
    "**What are the stress levels given different occupations and are those differences significant?**\n",
    "- Split the data based on occupation -> make occupation categories\n",
    "- Calculate the mean stress level for each of the new categories\n",
    "- Compare the means of each category\n",
    "  * Hull hypothesis (H0): all groups means are equal. (No difference in stress level between the different occupation categories.)\n",
    "  * H1: at least one group mean differs from the rest. (Stress level is different for at least one occupation category.)\n",
    "- Check whether the assumptions for an ANOVA test are violated.\n",
    "  * Independent observations\n",
    "  * Normally distributed errors\n",
    "  * Equal population variances"
   ]
  },
  {
   "cell_type": "code",
   "execution_count": 25,
   "id": "d2221f07-78df-4d1c-ad44-c654198fedc6",
   "metadata": {},
   "outputs": [
    {
     "name": "stdout",
     "output_type": "stream",
     "text": [
      "Occupation\n",
      "Doctor                  69\n",
      "Lawyer                  47\n",
      "Nurse                   45\n",
      "Teacher                 40\n",
      "Accountant              37\n",
      "Salesperson             32\n",
      "Engineer                31\n",
      "Software Engineer        4\n",
      "Scientist                4\n",
      "Sales Representative     2\n",
      "Manager                  1\n",
      "Name: count, dtype: int64\n",
      "==============================\n",
      "Occupation Group\n",
      "Healthcare            114\n",
      "Education and Law      87\n",
      "Business and Sales     72\n",
      "Technical              39\n",
      "Name: count, dtype: int64\n",
      "==============================\n",
      "Occupation Group\n",
      "Education and Law     4.816092\n",
      "Technical             5.153846\n",
      "Healthcare            5.728070\n",
      "Business and Sales    5.763889\n",
      "Name: Stress Level, dtype: float64\n"
     ]
    }
   ],
   "source": [
    "# What are the stress levels across different occupations?\n",
    "print(health_data_cleaned[\"Occupation\"].value_counts())\n",
    "print(\"=\"*30)\n",
    "\n",
    "# Because the dataset is not balanced, make occupation categories\n",
    "def cat_occup(occupation):\n",
    "    if occupation in [\"Nurse\", \"Doctor\"]:\n",
    "        return \"Healthcare\"\n",
    "    elif occupation in [\"Engineer\", \"Software Engineer\", \"Scientist\"]:\n",
    "        return \"Technical\"\n",
    "    elif occupation in [\"Salesperson\", \"Sales Representative\", \"Manager\", \"Accountant\"]:\n",
    "        return \"Business and Sales\"\n",
    "    elif occupation in [\"Teacher\", \"Lawyer\"]:\n",
    "        return \"Education and Law\"\n",
    "    else:\n",
    "        return \"Other\"\n",
    "\n",
    "health_data_cleaned[\"Occupation Group\"] = health_data_cleaned[\"Occupation\"].apply(cat_occup)\n",
    "print(health_data_cleaned[\"Occupation Group\"].value_counts())\n",
    "print(\"=\"*30)\n",
    "\n",
    "# Average stress level per category\n",
    "avg_stress_per_group = health_data_cleaned.groupby(\"Occupation Group\")[\"Stress Level\"].mean().sort_values()\n",
    "print(avg_stress_per_group)"
   ]
  },
  {
   "cell_type": "markdown",
   "id": "1669f7c2-e7c3-4863-b16c-2dc0eac0880c",
   "metadata": {},
   "source": [
    "- Check for assumtion violation:\n",
    "  * The observations are independent from each other. No repeated measures.\n",
    "  * In case of violation of the normal distribution of errors, the ANOVA is still robust because the sample size per group is larger than 30.\n",
    "  * Levene's test for equality of variances"
   ]
  },
  {
   "cell_type": "code",
   "execution_count": 26,
   "id": "8a9e1ef8-d66e-40c0-8082-7ecdaa6385d4",
   "metadata": {},
   "outputs": [
    {
     "name": "stdout",
     "output_type": "stream",
     "text": [
      "Levene's Test Statistic: 17.98565\n",
      "Levene's Test p-value: 0.0\n"
     ]
    }
   ],
   "source": [
    "from scipy.stats import levene\n",
    "\n",
    "occupation_groups = [\"Healthcare\", \"Education and Law\", \"Technical\", \"Business and Sales\"]\n",
    "\n",
    "stress_data = []\n",
    "\n",
    "for group in occupation_groups:\n",
    "    stress_levels = health_data_cleaned[health_data_cleaned[\"Occupation Group\"] == group][\"Stress Level\"].dropna()\n",
    "    stress_data.append(stress_levels)\n",
    "\n",
    "stat_lev, p_val_lev = levene(*stress_data)\n",
    "print(f\"Levene's Test Statistic: {round(stat_lev, 6)}\")\n",
    "print(f\"Levene's Test p-value: {round(p_val_lev, 6)}\")\n",
    "    "
   ]
  },
  {
   "cell_type": "markdown",
   "id": "c640388c-789d-4065-91e9-d5f4f62150f7",
   "metadata": {},
   "source": [
    "* Given the result of the Levene's test, we can reject the null hypothesis of equal population variance. This means that ANOVA cannot be performed because the assumption is violated and the check for robustness also fails (the lowest sample size is 39, which is more the 1.5 time smaller than the largest sample size 114).\n",
    "* This means that we have to perform a Welch's Anova which does not have equal variances as an assumption."
   ]
  },
  {
   "cell_type": "code",
   "execution_count": 27,
   "id": "7523dbe6-998d-4301-9d91-4ee9652772c2",
   "metadata": {},
   "outputs": [
    {
     "name": "stdout",
     "output_type": "stream",
     "text": [
      "Requirement already satisfied: pingouin in c:\\users\\sofia\\new folder\\lib\\site-packages (0.5.5)\n",
      "Requirement already satisfied: matplotlib in c:\\users\\sofia\\new folder\\lib\\site-packages (from pingouin) (3.8.0)\n",
      "Requirement already satisfied: numpy in c:\\users\\sofia\\new folder\\lib\\site-packages (from pingouin) (1.26.4)\n",
      "Requirement already satisfied: pandas>=1.5 in c:\\users\\sofia\\new folder\\lib\\site-packages (from pingouin) (2.1.4)\n",
      "Requirement already satisfied: pandas-flavor in c:\\users\\sofia\\new folder\\lib\\site-packages (from pingouin) (0.6.0)\n",
      "Requirement already satisfied: scikit-learn>=1.2 in c:\\users\\sofia\\new folder\\lib\\site-packages (from pingouin) (1.5.2)\n",
      "Requirement already satisfied: scipy in c:\\users\\sofia\\new folder\\lib\\site-packages (from pingouin) (1.11.4)\n",
      "Requirement already satisfied: seaborn in c:\\users\\sofia\\new folder\\lib\\site-packages (from pingouin) (0.12.2)\n",
      "Requirement already satisfied: statsmodels in c:\\users\\sofia\\new folder\\lib\\site-packages (from pingouin) (0.14.0)\n",
      "Requirement already satisfied: tabulate in c:\\users\\sofia\\new folder\\lib\\site-packages (from pingouin) (0.9.0)\n",
      "Requirement already satisfied: python-dateutil>=2.8.2 in c:\\users\\sofia\\new folder\\lib\\site-packages (from pandas>=1.5->pingouin) (2.8.2)\n",
      "Requirement already satisfied: pytz>=2020.1 in c:\\users\\sofia\\new folder\\lib\\site-packages (from pandas>=1.5->pingouin) (2023.3.post1)\n",
      "Requirement already satisfied: tzdata>=2022.1 in c:\\users\\sofia\\new folder\\lib\\site-packages (from pandas>=1.5->pingouin) (2023.3)\n",
      "Requirement already satisfied: joblib>=1.2.0 in c:\\users\\sofia\\new folder\\lib\\site-packages (from scikit-learn>=1.2->pingouin) (1.2.0)\n",
      "Requirement already satisfied: threadpoolctl>=3.1.0 in c:\\users\\sofia\\new folder\\lib\\site-packages (from scikit-learn>=1.2->pingouin) (3.5.0)\n",
      "Requirement already satisfied: contourpy>=1.0.1 in c:\\users\\sofia\\new folder\\lib\\site-packages (from matplotlib->pingouin) (1.2.0)\n",
      "Requirement already satisfied: cycler>=0.10 in c:\\users\\sofia\\new folder\\lib\\site-packages (from matplotlib->pingouin) (0.11.0)\n",
      "Requirement already satisfied: fonttools>=4.22.0 in c:\\users\\sofia\\new folder\\lib\\site-packages (from matplotlib->pingouin) (4.25.0)\n",
      "Requirement already satisfied: kiwisolver>=1.0.1 in c:\\users\\sofia\\new folder\\lib\\site-packages (from matplotlib->pingouin) (1.4.4)\n",
      "Requirement already satisfied: packaging>=20.0 in c:\\users\\sofia\\new folder\\lib\\site-packages (from matplotlib->pingouin) (23.1)\n",
      "Requirement already satisfied: pillow>=6.2.0 in c:\\users\\sofia\\new folder\\lib\\site-packages (from matplotlib->pingouin) (10.2.0)\n",
      "Requirement already satisfied: pyparsing>=2.3.1 in c:\\users\\sofia\\new folder\\lib\\site-packages (from matplotlib->pingouin) (3.0.9)\n",
      "Requirement already satisfied: xarray in c:\\users\\sofia\\new folder\\lib\\site-packages (from pandas-flavor->pingouin) (2023.6.0)\n",
      "Requirement already satisfied: patsy>=0.5.2 in c:\\users\\sofia\\new folder\\lib\\site-packages (from statsmodels->pingouin) (0.5.3)\n",
      "Requirement already satisfied: six in c:\\users\\sofia\\new folder\\lib\\site-packages (from patsy>=0.5.2->statsmodels->pingouin) (1.16.0)\n",
      "Note: you may need to restart the kernel to use updated packages.\n"
     ]
    }
   ],
   "source": [
    "pip install pingouin"
   ]
  },
  {
   "cell_type": "code",
   "execution_count": 28,
   "id": "535aa367-0372-480a-8e0d-9551b91984b1",
   "metadata": {},
   "outputs": [
    {
     "name": "stdout",
     "output_type": "stream",
     "text": [
      "             Source  ddof1       ddof2          F         p-unc       np2\n",
      "0  Occupation Group      3  126.078715  11.932463  6.256063e-07  0.068141\n"
     ]
    }
   ],
   "source": [
    "# Perform Walch's ANOVA\n",
    "import pingouin as pg\n",
    "\n",
    "welch_anova = pg.welch_anova(dv=\"Stress Level\", between =\"Occupation Group\", data = health_data_cleaned)\n",
    "\n",
    "print(welch_anova)"
   ]
  },
  {
   "cell_type": "markdown",
   "id": "a796a6df-5ba6-4fbc-b525-bf4744c9ab15",
   "metadata": {},
   "source": [
    "* Based on the results of the test, we can reject the H0, because there is at least one group mean that differs from the rest.\n",
    "* To find which groups differ from each other, we have to perform a post-hoc test: Games-Howell post-hoc test, which also accounts for unequal variances."
   ]
  },
  {
   "cell_type": "code",
   "execution_count": 29,
   "id": "4435226c-6757-4753-870d-7a7971fcee63",
   "metadata": {},
   "outputs": [
    {
     "name": "stdout",
     "output_type": "stream",
     "text": [
      "                    A                  B   mean(A)   mean(B)      diff  \\\n",
      "0  Business and Sales  Education and Law  5.763889  4.816092  0.947797   \n",
      "1  Business and Sales         Healthcare  5.763889  5.728070  0.035819   \n",
      "2  Business and Sales          Technical  5.763889  5.153846  0.610043   \n",
      "3   Education and Law         Healthcare  4.816092  5.728070 -0.911978   \n",
      "4   Education and Law          Technical  4.816092  5.153846 -0.337754   \n",
      "5          Healthcare          Technical  5.728070  5.153846  0.574224   \n",
      "\n",
      "         se         T          df      pval    hedges  \n",
      "0  0.198408  4.777016  101.579484  0.000035  0.800406  \n",
      "1  0.260523  0.137488  177.964616  0.999069  0.019378  \n",
      "2  0.268584  2.271331   92.121741  0.112334  0.422555  \n",
      "3  0.206613 -4.413936  154.451712  0.000111 -0.566620  \n",
      "4  0.216689 -1.558702   51.995368  0.410815 -0.353022  \n",
      "5  0.274701  2.090359  107.376321  0.162837  0.308594  \n"
     ]
    }
   ],
   "source": [
    "posthoc = pg.pairwise_gameshowell(dv=\"Stress Level\", between=\"Occupation Group\", data=health_data_cleaned)\n",
    "\n",
    "print(posthoc)"
   ]
  },
  {
   "cell_type": "markdown",
   "id": "46565f52-6750-4fda-9f6a-10f2a8c8edbe",
   "metadata": {},
   "source": [
    "* Based from the posthoc test we can make the following conclusions:\n",
    "  - Business and Sales report significantly higher stress levels than Education and Law, with an effect size of 0.80, p < .05\n",
    "  - Education and Law report significantly lower stress levels than Healthcare, with an effect size of 0.57, p < .05"
   ]
  },
  {
   "cell_type": "markdown",
   "id": "272a8bd6-909a-4fd1-96a0-54f643fa538e",
   "metadata": {},
   "source": [
    "**Final Conclusions**\n",
    "* Given the violation of the equal variances assumption, ANOVA was not appropriate to be conducted, thus the Walch's ANOVA was performed to account for the unequal variances.\n",
    "* The results were significant, thus the following step would be to check which categories significantly differ from each other in terms of stress levels.\n",
    "* The final results suggests that job in the category of \"Business and Sales\" experience on average more stress (*$\\overline {X}$=5.764*) than in \"Education and Law\", and job in \"Healthcare\" experience on average higher stress levels (*$\\overline {X}$=5.728*) than \"Education and Law\"."
   ]
  },
  {
   "cell_type": "markdown",
   "id": "d5c5451d-de1c-4c76-bc0b-f42824e63fd7",
   "metadata": {},
   "source": [
    "**What is the relationship between stress level and heart rate?**\n",
    "- Generate a scatterplot to inspect the direction and strenght of the relationship.\n",
    "- Correlational analysis will be conducted to find the value for *Pearson's r* and a significance test will be performed."
   ]
  },
  {
   "cell_type": "code",
   "execution_count": 30,
   "id": "31ad8758-2f91-4639-a34e-8eac47112818",
   "metadata": {},
   "outputs": [
    {
     "data": {
      "image/png": "[encoded data removed]",
      "text/plain": [
       "<Figure size 640x480 with 1 Axes>"
      ]
     },
     "metadata": {},
     "output_type": "display_data"
    },
    {
     "name": "stdout",
     "output_type": "stream",
     "text": [
      "r = 0.544\n",
      "p = 0.0\n",
      "The correlation is significant at the 5% level.\n"
     ]
    }
   ],
   "source": [
    "\n",
    "# Scatterplot to see whether there is a relationship\n",
    "x_shr = health_data_cleaned[\"Stress Level\"]\n",
    "y_shr = health_data_cleaned[\"Heart Rate\"]\n",
    "\n",
    "plt.scatter(x_shr, y_shr, alpha=0.1, color=\"blue\")\n",
    "plt.xlabel(\"Stress Level (Scale)\")\n",
    "plt.ylabel(\"Heart Rate\")\n",
    "plt.show()\n",
    "\n",
    "r_shr, p_shr = pearsonr(health_data_cleaned[\"Stress Level\"], health_data_cleaned[\"Heart Rate\"])\n",
    "\n",
    "print(\"r = {}\".format(round(r_shr,3)))\n",
    "print(\"p = {}\".format(round(p_shr,3)))\n",
    "\n",
    "if p_shr <0.05:\n",
    "    print(\"The correlation is significant at the 5% level.\")\n",
    "else:\n",
    "    print(\"The correlation is not significant.\")"
   ]
  },
  {
   "cell_type": "markdown",
   "id": "10f77b96-a9e2-4fc7-a5e6-d8b217480dc4",
   "metadata": {},
   "source": [
    "* Given the scatterplot we can see a positive relationship.\n",
    "* After performing the correlation analysis we find evidence supporting a strong positive correlation between stress level and heart rate."
   ]
  },
  {
   "cell_type": "code",
   "execution_count": 31,
   "id": "840237e0-27e6-4d8e-910e-68a24dd97d34",
   "metadata": {},
   "outputs": [
    {
     "data": {
      "image/png": "[encoded data removed]",
      "text/plain": [
       "<Figure size 1200x600 with 2 Axes>"
      ]
     },
     "metadata": {},
     "output_type": "display_data"
    }
   ],
   "source": [
    "# Is this relation kept if we look at the two genders?\n",
    "plt.figure(figsize=(12,6))\n",
    "\n",
    "plt.subplot(1,2,1)\n",
    "plt.scatter(male[\"Stress Level\"], male[\"Heart Rate\"], alpha=0.7, color=\"blue\")\n",
    "plt.ylabel(\"Heart Rate\")\n",
    "plt.xlabel(\"Stress Level (Scale)\")\n",
    "plt.title(\"Heart Rate vs. Stress in Males\")\n",
    "\n",
    "plt.subplot(1,2,2)\n",
    "plt.scatter(female[\"Stress Level\"], female[\"Heart Rate\"], alpha=0.7, color=\"pink\")\n",
    "plt.ylabel(\"Heart Rate\")\n",
    "plt.xlabel(\"Stress Level (Scale)\")\n",
    "plt.title(\"Heart Rate vs. Stress in Females\")\n",
    "\n",
    "plt.show()"
   ]
  },
  {
   "cell_type": "code",
   "execution_count": 32,
   "id": "45c9126d-e31f-41e4-ba90-5115ef067d93",
   "metadata": {},
   "outputs": [
    {
     "name": "stdout",
     "output_type": "stream",
     "text": [
      "r (males) = 0.322\n",
      "p (males) = 0.0\n",
      "The correlation is significant at the 5% level.\n",
      "==================================================\n",
      "r (females) = 0.729\n",
      "p (females) = 0.0\n",
      "The correlation is significant at the 5% level.\n"
     ]
    }
   ],
   "source": [
    "# Find the r for both genders on stress - HR relation\n",
    "# Pearson's r (males)\n",
    "r_male_shr, p_male_shr = pearsonr(male[\"Stress Level\"], male[\"Heart Rate\"])\n",
    "\n",
    "print(\"r (males) = {}\".format(round(r_male_shr,3)))\n",
    "print(\"p (males) = {}\".format(round(p_male_shr,3)))\n",
    "\n",
    "if p_male_shr <0.05:\n",
    "    print(\"The correlation is significant at the 5% level.\")\n",
    "    print(\"=\"*50)\n",
    "else:\n",
    "    print(\"The correlation is not significant.\")\n",
    "    print(\"=\"*50)\n",
    "    \n",
    "# Pearson's r (females)\n",
    "r_female_shr, p_female_shr = pearsonr(female[\"Stress Level\"], female[\"Heart Rate\"])\n",
    "\n",
    "print(\"r (females) = {}\".format(round(r_female_shr,3)))\n",
    "print(\"p (females) = {}\".format(round(p_female_shr,3)))\n",
    "\n",
    "if p_female_shr <0.05:\n",
    "    print(\"The correlation is significant at the 5% level.\")\n",
    "else:\n",
    "    print(\"The correlation is not significant.\")"
   ]
  },
  {
   "cell_type": "markdown",
   "id": "7cd6c0a7-fe28-4179-aaae-e30f04191410",
   "metadata": {},
   "source": [
    "**Final Conclusions**\n",
    "* To investigate whether the general trend will be the same for both males and females, a correlational analysis was performed.\n",
    "* Based on the scatterplot for both gender we can see that the relationship continues being positive. Thus, increase in stress levels can lead to increase in heart rate and vice versa.\n",
    "* Correlational analysis was performed with value for *r (males) = 0.322* and *p (males) = 0.0*. This result suggests that there is a weak positive relationship between heart rate and stress level for males. The relationship was also found to be significant.\n",
    "* For the females the results were: *r (females) = 0.729* and *p (females) = 0.0*. The strong positive relationship indicates that increase in stress levels is coupled with increase in heart rate."
   ]
  }
 ],
 "metadata": {
  "kernelspec": {
   "display_name": "Python 3 (ipykernel)",
   "language": "python",
   "name": "python3"
  },
  "language_info": {
   "codemirror_mode": {
    "name": "ipython",
    "version": 3
   },
   "file_extension": ".py",
   "mimetype": "text/x-python",
   "name": "python",
   "nbconvert_exporter": "python",
   "pygments_lexer": "ipython3",
   "version": "3.11.7"
  }
 },
 "nbformat": 4,
 "nbformat_minor": 5
}
